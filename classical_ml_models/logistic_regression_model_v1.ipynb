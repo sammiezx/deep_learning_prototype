{
 "cells": [
  {
   "cell_type": "code",
   "execution_count": 13,
   "metadata": {},
   "outputs": [
    {
     "name": "stdout",
     "output_type": "stream",
     "text": [
      "Logistic Regression Test Accuracy: 82.33%\n"
     ]
    }
   ],
   "source": [
    "from sklearn.model_selection import train_test_split\n",
    "from sklearn.metrics import accuracy_score\n",
    "from sklearn.linear_model import LogisticRegression\n",
    "import pandas as pd\n",
    "\n",
    "\n",
    "\n",
    "base_df = pd.read_csv(\"/home/samir/Desktop/rudraAnalytics/sub_projects/customer/data/data.csv\")\n",
    "pd.set_option(\"display.max_columns\", None)\n",
    "\n",
    "df = base_df.copy()\n",
    "df['TotalCharges'] = pd.to_numeric(df['TotalCharges'], errors='coerce')\n",
    "df['SeniorCitizen'] = df['SeniorCitizen'].astype(str)\n",
    "\n",
    "\n",
    "def one_hot_encode(df, encode_set=[], dont_encode=[]):\n",
    "    encoded_df = df.copy()\n",
    "    for column in encode_set:\n",
    "        if column in dont_encode:\n",
    "            continue\n",
    "        # print(len(df[column].unique()))\n",
    "        if df[column].dtype == 'object':\n",
    "            if len(df[column].unique()) == 2:\n",
    "                # Binary encoding (0 and 1)\n",
    "                encoded_df[column] = pd.get_dummies(df[column], drop_first=True)\n",
    "            else:\n",
    "                # One-hot encoding and using 0 and 1 instead of True and False\n",
    "                one_hot_encoded = pd.get_dummies(df[column], prefix=column, drop_first=False)\n",
    "                one_hot_encoded.columns = [f\"{column}{i+1}\" for i in range(one_hot_encoded.shape[1])]\n",
    "                encoded_df = pd.concat([encoded_df, one_hot_encoded], axis=1)\n",
    "                encoded_df.drop(column, axis=1, inplace=True)\n",
    "                # print(encoded_df)\n",
    "\n",
    "    return encoded_df\n",
    "\n",
    "features = [\n",
    "    'customerID',\n",
    "    'gender',\n",
    "    'SeniorCitizen',\n",
    "    'Partner',\n",
    "    'Dependents',\n",
    "    'tenure',\n",
    "    'PhoneService',\n",
    "    'MultipleLines',\n",
    "    'InternetService',\n",
    "    'OnlineSecurity',\n",
    "    'OnlineBackup',\n",
    "    'DeviceProtection',\n",
    "    'TechSupport',\n",
    "    'StreamingTV',\n",
    "    'StreamingMovies',\n",
    "    'Contract',\n",
    "    'PaperlessBilling',\n",
    "    'PaymentMethod',\n",
    "    'MonthlyCharges',\n",
    "    'TotalCharges',\n",
    "    'Churn'\n",
    "]\n",
    "dont_label = ['customerID', 'tenure', 'MonthlyCharges', 'TotalCharges']\n",
    "\n",
    "encoded_df = one_hot_encode(df.drop('customerID', axis=1), features, dont_label)\n",
    "encoded_df['TotalCharges'].fillna(encoded_df['TotalCharges'].mean(), inplace=True)\n",
    "\n",
    "X = encoded_df.drop('Churn', axis=1)\n",
    "y = encoded_df['Churn']\n",
    "\n",
    "# Split the data into training and testing sets\n",
    "X_train, X_test, y_train, y_test = train_test_split(X, y, test_size=0.2, random_state=42)\n",
    "\n",
    "# Build the Logistic Regression model\n",
    "logistic_model = LogisticRegression(random_state=42)\n",
    "\n",
    "# Train the model\n",
    "logistic_model.fit(X_train, y_train)\n",
    "\n",
    "# Make predictions on the test set\n",
    "y_pred_logistic = logistic_model.predict(X_test)\n",
    "\n",
    "# Evaluate the model\n",
    "accuracy_logistic = accuracy_score(y_test, y_pred_logistic)\n",
    "print(f\"Logistic Regression Test Accuracy: {accuracy_logistic * 100:.2f}%\")\n"
   ]
  },
  {
   "attachments": {},
   "cell_type": "markdown",
   "metadata": {},
   "source": [
    "#Logistic Regression Test Accuracy: 82.33%"
   ]
  }
 ],
 "metadata": {
  "kernelspec": {
   "display_name": "env0",
   "language": "python",
   "name": "python3"
  },
  "language_info": {
   "codemirror_mode": {
    "name": "ipython",
    "version": 3
   },
   "file_extension": ".py",
   "mimetype": "text/x-python",
   "name": "python",
   "nbconvert_exporter": "python",
   "pygments_lexer": "ipython3",
   "version": "3.10.12"
  },
  "orig_nbformat": 4
 },
 "nbformat": 4,
 "nbformat_minor": 2
}
